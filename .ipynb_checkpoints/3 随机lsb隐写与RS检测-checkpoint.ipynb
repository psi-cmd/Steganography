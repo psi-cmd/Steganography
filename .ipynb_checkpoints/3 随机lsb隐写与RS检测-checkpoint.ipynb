{
 "cells": [
  {
   "cell_type": "markdown",
   "metadata": {},
   "source": [
    "# 一、随机 lsb 隐写实现"
   ]
  },
  {
   "cell_type": "markdown",
   "metadata": {},
   "source": [
    "### 随机 lsb 隐写过程\n",
    "1. 生成随机数列，作为嵌入步长，对满足嵌入步长的字节末位进行比特替换。\n",
    "    此处随机序列生成有多种选择：\n",
    "    - 修改文件时 unix 时间（取转换时时间的十进制千位及以上数字作为随机种子）\n",
    "    - 以正常照片的某一项 metadata（如 geolocation ）作为种子，但往往有此特征的图片都是由真实相机拍摄的 jpg 格式图片，jpg 有损压缩的特性决定不能用于 lsb 隐写\n",
    "    - 以上述数据混合后的约定加盐 hash 作为种子\n",
    "    但考虑到上述数据具有易于毁坏的特性，往往可以被修改覆盖掉而不影响图片的阅览，于是考虑使用图片像素的 msb 序列的 md5 做为随机列生成函数"
   ]
  },
  {
   "cell_type": "code",
   "execution_count": 64,
   "metadata": {},
   "outputs": [],
   "source": [
    "%config IPCompleter.greedy=True\n",
    "import cv2\n",
    "import numpy as np\n",
    "from random import Random\n",
    "from hashlib import md5\n",
    "import os"
   ]
  },
  {
   "cell_type": "code",
   "execution_count": 2,
   "metadata": {},
   "outputs": [],
   "source": [
    "def digest_rand(a:np.ndarray, count, rand_range=(1, 5)):\n",
    "    assert all(i > 0 for i in rand_range), \"rand_range can't be zero or negative\"\n",
    "    gen = Random(md5((a>>7).tobytes()).digest())\n",
    "    return np.array([gen.randint(*rand_range) for _ in range(count)])"
   ]
  },
  {
   "cell_type": "code",
   "execution_count": 3,
   "metadata": {},
   "outputs": [],
   "source": [
    "def embed(string, img, output_file=\"output.png\", rand_range=(1, 5)):\n",
    "    \"\"\"Embed string inside the last lsb_plane of specific image and dump it to output_file.\\n\n",
    "            (input string can be bytes type)\"\"\"\n",
    "    cover = cv2.imread(img)\n",
    "    cover_array = cover.ravel()\n",
    "    sparse = [len(string) >> j & 1 for j in range(32)] # 前 32 位用于存储字节数\n",
    "    for i in string:\n",
    "        if type(string) == str:\n",
    "            sparse += [(ord(i) >> j) & 1 for j in range(8)]\n",
    "        elif type(string) == bytes:\n",
    "            sparse += [(i >> j) & 1 for j in range(8)]\n",
    "    sparse = np.array(sparse, dtype=np.uint8)\n",
    "    rand_array = digest_rand(cover_array, sparse.size - 32, rand_range)\n",
    "\n",
    "    print(\"cover image bytes: \", cover.size)\n",
    "    print(\"sparsed info bytes: \", sparse.size)\n",
    "    assumed_len = sum(rand_array)\n",
    "    print(\"assumed length: \", assumed_len)\n",
    "    if cover.size < assumed_len:\n",
    "        print(\"img size too small, you may try to limit the rand_range to compress the gap.\")\n",
    "        return 1\n",
    "    \n",
    "    selector = np.empty(cover.size, dtype=np.bool)\n",
    "    selector[:] = False; selector[:32] = True\n",
    "    selector[np.cumsum(rand_array)+31] = True\n",
    "    \n",
    "    cover_array[selector] = (cover_array[selector] >> 1) << 1\n",
    "    cover_array[selector] += sparse\n",
    "    cv2.imwrite(output_file, cover_array.reshape(cover.shape))"
   ]
  },
  {
   "cell_type": "markdown",
   "metadata": {},
   "source": [
    "- 尝试隐写"
   ]
  },
  {
   "cell_type": "code",
   "execution_count": 4,
   "metadata": {},
   "outputs": [
    {
     "name": "stdout",
     "output_type": "stream",
     "text": [
      "cover image bytes:  786432\n",
      "sparsed info bytes:  320\n",
      "assumed length:  844\n"
     ]
    }
   ],
   "source": [
    "embed(\"flag{35caqe_chi_z9u4r3_w1th_3n7ropy}\", \"lena.png\", output_file=\"flag.png\")"
   ]
  },
  {
   "cell_type": "code",
   "execution_count": 5,
   "metadata": {},
   "outputs": [],
   "source": [
    "def extract(img=\"output.png\", dump_file=None, binary=False, rand_range=(1, 5)):\n",
    "    \"\"\"Extract info from lowest lsb plane of img, set binary flag to specify file type, dump_file to save binary data\"\"\"\n",
    "    crypt = cv2.imread(img).ravel()\n",
    "    bit_flat = crypt & np.ones(crypt.size, dtype=np.uint8)\n",
    "    length = sum([bit_flat[i] << i for i in range(32)])\n",
    "    if length > bit_flat.size:\n",
    "        print(\"Incredible size.\")\n",
    "        return \n",
    "    \n",
    "    rand_array = digest_rand(crypt, length*8, rand_range)\n",
    "    selector = np.empty(crypt.size, dtype=np.bool)\n",
    "    selector[:] = False; selector[:32] = True\n",
    "    selector[np.cumsum(rand_array)+31] = True\n",
    "    bit_flat = bit_flat[selector]\n",
    "    \n",
    "    info = np.array(bit_flat[32: 32+8*length]).reshape(length, 8)\n",
    "    msg = bytes() if binary else \"\"\n",
    "    for i in info:\n",
    "        if binary:\n",
    "            msg += bytes([sum([i[j] << j for j in range(8)])]) #小心 bytes 构建函数的用法\n",
    "        else:\n",
    "            msg += chr(sum([i[j] << j for j in range(8)]))\n",
    "            \n",
    "    if dump_file:\n",
    "        if binary:\n",
    "            with open(dump_file, \"wb\") as f:\n",
    "                f.write(msg)\n",
    "        else:\n",
    "            with open(dump_file, \"w\") as f:\n",
    "                f.write(msg)\n",
    "    else:\n",
    "        return msg\n",
    "    "
   ]
  },
  {
   "cell_type": "markdown",
   "metadata": {},
   "source": [
    "- 尝试提取（提取时的随机数范围必与隐藏时一致）"
   ]
  },
  {
   "cell_type": "code",
   "execution_count": 6,
   "metadata": {},
   "outputs": [
    {
     "data": {
      "text/plain": [
       "'flag{35caqe_chi_z9u4r3_w1th_3n7ropy}'"
      ]
     },
     "execution_count": 6,
     "metadata": {},
     "output_type": "execute_result"
    }
   ],
   "source": [
    "extract(\"flag.png\")"
   ]
  },
  {
   "cell_type": "markdown",
   "metadata": {},
   "source": [
    "- 隐藏文件"
   ]
  },
  {
   "cell_type": "code",
   "execution_count": 45,
   "metadata": {},
   "outputs": [
    {
     "name": "stdout",
     "output_type": "stream",
     "text": [
      "cover image bytes:  786432\n",
      "sparsed info bytes:  186568\n",
      "assumed length:  560500\n",
      "content length:  23317\n"
     ]
    }
   ],
   "source": [
    "with open(\"keygen2032.rar\", \"rb\") as f:\n",
    "    content = f.read()\n",
    "    embed(content, \"lena.png\", rand_range=(1,5))\n",
    "    print(\"content length: \", len(content))"
   ]
  },
  {
   "cell_type": "markdown",
   "metadata": {},
   "source": [
    "- 提取文件并校验"
   ]
  },
  {
   "cell_type": "code",
   "execution_count": 8,
   "metadata": {},
   "outputs": [
    {
     "name": "stdout",
     "output_type": "stream",
     "text": [
      "True\n"
     ]
    }
   ],
   "source": [
    "extract(dump_file=\"result2.rar\", binary=True)\n",
    "with open(\"keygen2032.rar\",\"rb\") as f1, open(\"result2.rar\", \"rb\") as f2:\n",
    "    print(hash(f1.read()) == hash(f2.read()))"
   ]
  },
  {
   "cell_type": "markdown",
   "metadata": {},
   "source": [
    "### 卡方检验测试"
   ]
  },
  {
   "cell_type": "code",
   "execution_count": 9,
   "metadata": {},
   "outputs": [],
   "source": [
    "from matplotlib import pyplot as plt\n",
    "from scipy import stats"
   ]
  },
  {
   "cell_type": "code",
   "execution_count": 10,
   "metadata": {},
   "outputs": [],
   "source": [
    "def analyse(embedded_img=\"output.png\", sample_size=10000, draw=True, lsb_plane=1):\n",
    "    \"\"\"chi square analyse specified with step of sample size\"\"\"\n",
    "#     raw_img = cv2.imread(raw_img)\n",
    "    embedded_img = cv2.imread(embedded_img)\n",
    "    embedded_img = embedded_img.ravel() >> (lsb_plane - 1)\n",
    "    X, Y =[], []\n",
    "    for i in range(sample_size, len(embedded_img), sample_size):  #连续 lsb 隐写检验\n",
    "        stat = np.bincount(embedded_img[i-sample_size:i], minlength=256)\n",
    "        mask = (stat[::2]+stat[1::2])/2 != 0   #过滤0值\n",
    "        res = stats.chisquare(f_obs=stat[::2][mask], f_exp=((stat[::2]+stat[1::2])/2)[mask])\n",
    "        X.append((i-sample_size/2)/len(embedded_img))\n",
    "        Y.append(res.pvalue)\n",
    "    if draw:\n",
    "        plt.figure(dpi=100)\n",
    "        plt.ylim(-0.01,1.01)\n",
    "        plt.title(\"$\\chi^2$ test\")\n",
    "        plt.ylabel(f\"probability per {sample_size} sample\")\n",
    "        plt.plot(X, Y, 'r-', label=f\"probability per {sample_size} sample\")\n",
    "        plt.show()\n",
    "    return Y"
   ]
  },
  {
   "cell_type": "code",
   "execution_count": 49,
   "metadata": {
    "jupyter": {
     "source_hidden": true
    }
   },
   "outputs": [],
   "source": [
    "def random_embed(proportion, imgfile=\"sample.png\", rand_range=(1,5)):\n",
    "    length = cv2.imread(imgfile).size\n",
    "    embed(np.random.bytes((length - 32) * proportion / 8), imgfile, output_file=\"rand.png\", rand_range=rand_range)"
   ]
  },
  {
   "cell_type": "code",
   "execution_count": 66,
   "metadata": {},
   "outputs": [
    {
     "name": "stdout",
     "output_type": "stream",
     "text": [
      "cover image bytes:  1829898\n",
      "sparsed info bytes:  183016\n",
      "assumed length:  1372652\n"
     ]
    },
    {
     "data": {
      "image/png": "[encoded data removed]",
      "text/plain": [
       "<Figure size 600x400 with 1 Axes>"
      ]
     },
     "metadata": {
      "needs_background": "light"
     },
     "output_type": "display_data"
    }
   ],
   "source": [
    "random_embed(0.1, \"eniac.png\", (5,10))\n",
    "analyse(embedded_img=\"rand.png\",sample_size=10000);\n",
    "os.remove(\"rand.png\")"
   ]
  },
  {
   "cell_type": "markdown",
   "metadata": {},
   "source": [
    "事实上，当两隐写数据随机间隔范围比较小时（如本例中范围为(5,10)），数据往往呈现多峰状况，如图中所示。"
   ]
  },
  {
   "cell_type": "markdown",
   "metadata": {},
   "source": [
    "# 二、RS 检测"
   ]
  },
  {
   "cell_type": "markdown",
   "metadata": {},
   "source": [
    "1. 基于预设的M，计算待检测图像中如下统计量：$R_M(p/2)$、$S_M(p/2)$ 、$R_{-M}(p/2)$ 和 $S_{-M}(p/2)$；\n",
    "2. 将图像所有像素的最低有效位进行翻转，计算统计量：$R_M(1-p/2)$、$S_M(1-p/2)$ 、$R_{-M}(1-p/2)$ 和 $S_{-M}(1-p/2)$；\n",
    "3. 根据式(3)解方程可得绝对值较小的根，即为z值；\n",
    "4. 根据 p=z/(z-1/2) 得到嵌入信息比率的估计值。\n"
   ]
  },
  {
   "cell_type": "code",
   "execution_count": 75,
   "metadata": {},
   "outputs": [],
   "source": [
    "\n",
    "# RS 检测特定函数\n",
    "f = lambda x: np.abs(x[:-1] - x[1:]).sum() # 平滑度函数\n",
    "F_1 = lambda x: x+1 - 2 * (x & 0b1)  # 正翻转\n",
    "F_N1 = lambda x: x-1 + 2 * (x & 0b1)  # 负翻转\n",
    "\n",
    "def rs_check(img, split=(20, 20)):\n",
    "    img = cv2.imread(img)\n",
    "    dim = (img.shape[0] // split[0], img.shape[1] // split[1])\n",
    "    trunks = []\n",
    "    for i in range(3):   # 彩色 png 图像 3 个色彩平面\n",
    "        for j in range(dim[0]):\n",
    "            for k in range(dim[1]):\n",
    "                trunks.append(img[j*split[0]:(j+1)*split[0],k*split[1]:(k+1)*split[1],i].ravel())\n",
    "    \n",
    "    regular = map(lambda x: f(F_1(x)) > f(x), trunks)\n",
    "    singular = map(lambda x: f(F_1(x)) < f(x), trunks)\n",
    "    R_M = sum(regular) / len(regular)\n",
    "    S_M = sum(singular) / len(singular)\n",
    "    regular = map(lambda x: f(F_N1(x)) > f(x), trunks)\n",
    "    singular = map(lambda x: f(F_N1(x)) < f(x), trunks)\n",
    "    R_NM = sum(regular) / len(regular)\n",
    "    S_NM = sum(singular) / len(singular)\n",
    "    \n",
    "    regular = map(lambda x: f(F_1(x^1)) > f(x^1), trunks)\n",
    "    singular = map(lambda x: f(F_1(x^1)) < f(x^1), trunks)\n",
    "    R_M_ = sum(regular) / len(regular)\n",
    "    S_M_ = sum(singular) / len(singular)\n",
    "    regular = map(lambda x: f(F_N1(x^1)) > f(x^1), trunks)\n",
    "    singular = map(lambda x: f(F_N1(x^1)) < f(x^1), trunks)\n",
    "    R_NM_ = sum(regular) / len(regular)\n",
    "    S_NM_ = sum(singular) / len(singular)\n",
    "    \n",
    "    d_0 = R_M - S_M\n",
    "    d_N0 = R_NM - S_NM\n",
    "    d_1 = R_M_ - S_M_\n",
    "    d_N1 = R_NM_ - S_NM_\n",
    "    \n",
    "    a = 2(d_1 + d_0); b"
   ]
  },
  {
   "cell_type": "code",
   "execution_count": 77,
   "metadata": {},
   "outputs": [
    {
     "data": {
      "text/plain": [
       "\u001b[0;31mInit signature:\u001b[0m \u001b[0mmap\u001b[0m\u001b[0;34m(\u001b[0m\u001b[0mself\u001b[0m\u001b[0;34m,\u001b[0m \u001b[0;34m/\u001b[0m\u001b[0;34m,\u001b[0m \u001b[0;34m*\u001b[0m\u001b[0margs\u001b[0m\u001b[0;34m,\u001b[0m \u001b[0;34m**\u001b[0m\u001b[0mkwargs\u001b[0m\u001b[0;34m)\u001b[0m\u001b[0;34m\u001b[0m\u001b[0;34m\u001b[0m\u001b[0m\n",
       "\u001b[0;31mDocstring:\u001b[0m     \n",
       "map(func, *iterables) --> map object\n",
       "\n",
       "Make an iterator that computes the function using arguments from\n",
       "each of the iterables.  Stops when the shortest iterable is exhausted.\n",
       "\u001b[0;31mType:\u001b[0m           type\n",
       "\u001b[0;31mSubclasses:\u001b[0m     \n"
      ]
     },
     "metadata": {},
     "output_type": "display_data"
    }
   ],
   "source": [
    "map?"
   ]
  },
  {
   "cell_type": "code",
   "execution_count": 73,
   "metadata": {},
   "outputs": [
    {
     "data": {
      "text/plain": [
       "array([[6],\n",
       "       [8]])"
      ]
     },
     "execution_count": 73,
     "metadata": {},
     "output_type": "execute_result"
    }
   ],
   "source": [
    "np.array([[[1],[3]], [[5], [7]], [[6], [8]]])[2]"
   ]
  },
  {
   "cell_type": "code",
   "execution_count": 74,
   "metadata": {},
   "outputs": [
    {
     "data": {
      "text/plain": [
       "(682, 1024, 3)"
      ]
     },
     "execution_count": 74,
     "metadata": {},
     "output_type": "execute_result"
    }
   ],
   "source": [
    "cv2.imread(\"sample.png\").shape"
   ]
  },
  {
   "cell_type": "code",
   "execution_count": 81,
   "metadata": {},
   "outputs": [
    {
     "data": {
      "text/plain": [
       "1"
      ]
     },
     "execution_count": 81,
     "metadata": {},
     "output_type": "execute_result"
    }
   ],
   "source": [
    "1 | 1"
   ]
  },
  {
   "cell_type": "code",
   "execution_count": null,
   "metadata": {},
   "outputs": [],
   "source": []
  }
 ],
 "metadata": {
  "kernelspec": {
   "display_name": "Python 3",
   "language": "python",
   "name": "python3"
  },
  "language_info": {
   "codemirror_mode": {
    "name": "ipython",
    "version": 3
   },
   "file_extension": ".py",
   "mimetype": "text/x-python",
   "name": "python",
   "nbconvert_exporter": "python",
   "pygments_lexer": "ipython3",
   "version": "3.8.5"
  }
 },
 "nbformat": 4,
 "nbformat_minor": 4
}
